{
 "cells": [
  {
   "cell_type": "code",
   "execution_count": 2,
   "metadata": {},
   "outputs": [],
   "source": [
    "import numpy as np\n",
    "import pandas as pd"
   ]
  },
  {
   "cell_type": "markdown",
   "metadata": {},
   "source": [
    "### Decision Tree Array Classifier"
   ]
  },
  {
   "cell_type": "code",
   "execution_count": 3,
   "metadata": {},
   "outputs": [],
   "source": [
    "\n",
    "class DecisionTreeArrClassifier:\n",
    "    def __init__(self, features, thresholds, children):\n",
    "        ''' constructor '''\n",
    "        \n",
    "        # Initialize arrays for features, thresholds, and children\n",
    "        self.features = features\n",
    "        self.thresholds = thresholds\n",
    "        self.children = children\n",
    "        \n",
    "    def predict(self, Xin):\n",
    "        ''' function to predict with DT-Arr kernel '''\n",
    "        \n",
    "        # Initialize node and feature\n",
    "        node = 0\n",
    "        feature = self.features[0]\n",
    "        \n",
    "        # Define the δ value\n",
    "        delta = -1  # Replace this with the actual δ value\n",
    "        \n",
    "        # Main loop to traverse the decision tree\n",
    "        while self.thresholds[node] != delta:\n",
    "            comparison = Xin[feature] <= self.thresholds[node]\n",
    "            node = comparison * self.children[2 * node] + (not comparison) * self.children[2 * node + 1]\n",
    "            feature = self.features[node]\n",
    "\n",
    "        # Get the class associated with the leaf node\n",
    "        predicted_class = self.children[2 * node]\n",
    "\n",
    "        return predicted_class"
   ]
  }
 ],
 "metadata": {
  "kernelspec": {
   "display_name": "Python 3",
   "language": "python",
   "name": "python3"
  },
  "language_info": {
   "codemirror_mode": {
    "name": "ipython",
    "version": 3
   },
   "file_extension": ".py",
   "mimetype": "text/x-python",
   "name": "python",
   "nbconvert_exporter": "python",
   "pygments_lexer": "ipython3",
   "version": "3.11.2"
  },
  "orig_nbformat": 4
 },
 "nbformat": 4,
 "nbformat_minor": 2
}
